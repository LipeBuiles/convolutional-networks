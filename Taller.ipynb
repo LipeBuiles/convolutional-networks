{
  "nbformat": 4,
  "nbformat_minor": 0,
  "metadata": {
    "colab": {
      "name": "Taller.ipynb",
      "provenance": [],
      "collapsed_sections": [],
      "include_colab_link": true
    },
    "kernelspec": {
      "name": "python3",
      "display_name": "Python 3"
    },
    "accelerator": "GPU"
  },
  "cells": [
    {
      "cell_type": "markdown",
      "metadata": {
        "id": "view-in-github",
        "colab_type": "text"
      },
      "source": [
        "<a href=\"https://colab.research.google.com/github/elpinchepastel/convolutional-networks/blob/master/Taller.ipynb\" target=\"_parent\"><img src=\"https://colab.research.google.com/assets/colab-badge.svg\" alt=\"Open In Colab\"/></a>"
      ]
    },
    {
      "cell_type": "code",
      "metadata": {
        "id": "mTD5u8PXMCTT"
      },
      "source": [
        "import torch\n",
        "import torch.nn as nn\n",
        "import torch.nn.functional as F\n",
        "import torch.optim as optim  \n",
        "import pandas as pd\n",
        "import torchvision.transforms as transforms  \n",
        "import torchvision\n",
        "import os\n",
        "from time import time \n",
        "from skimage import io\n",
        "import matplotlib.pyplot as plt\n",
        "from skimage.transform import resize\n",
        "from torch.utils.data import (Dataset, DataLoader)  "
      ],
      "execution_count": 1,
      "outputs": []
    },
    {
      "cell_type": "code",
      "metadata": {
        "id": "49AvvvWJMgsq",
        "outputId": "e305976e-408e-4399-d0a6-91bcafa7b64a",
        "colab": {
          "base_uri": "https://localhost:8080/",
          "height": 34
        }
      },
      "source": [
        "from google.colab import drive\n",
        "drive.mount('/content/drive/')"
      ],
      "execution_count": 2,
      "outputs": [
        {
          "output_type": "stream",
          "text": [
            "Mounted at /content/drive/\n"
          ],
          "name": "stdout"
        }
      ]
    },
    {
      "cell_type": "code",
      "metadata": {
        "id": "Lbg6_VVjMpvF",
        "outputId": "7d46dbe8-3ea8-4737-ceff-7da520e02b99",
        "colab": {
          "base_uri": "https://localhost:8080/",
          "height": 34
        }
      },
      "source": [
        "device = torch.device(\"cuda:0\" if torch.cuda.is_available() else \"cpu\")\n",
        "# Assuming that we are on a CUDA machine, this should print a CUDA device:\n",
        "print(device)\n",
        "classes = ('Circulo', 'Cuadrado', 'Estrella', 'Triangulo')"
      ],
      "execution_count": 3,
      "outputs": [
        {
          "output_type": "stream",
          "text": [
            "cuda:0\n"
          ],
          "name": "stdout"
        }
      ]
    },
    {
      "cell_type": "code",
      "metadata": {
        "id": "dFLxopRGNN_l"
      },
      "source": [
        "## Esto es lo que vimos en clase\n",
        "class ShapesDataset (Dataset):\n",
        "  def __init__(self, csv_file, root_dir, transform=None):\n",
        "    self.annotations = pd.read_csv(csv_file)\n",
        "    self.root_dir = root_dir\n",
        "    self.transform = transform\n",
        "  \n",
        "  def __len__(self):\n",
        "    return len(self.annotations)\n",
        "  \n",
        "  def __getitem__(self, index):\n",
        "    img_path = os.path.join(self.root_dir, self.annotations.iloc[index, 0])\n",
        "    image = io.imread(img_path)\n",
        "\n",
        "    image = resize(image, (32,32))\n",
        "    \n",
        "    y_label = torch.tensor(int(self.annotations.iloc[index, 1]))\n",
        "    if self.transform:\n",
        "      image = self.transform(image)\n",
        "    \n",
        "    return (image, y_label)"
      ],
      "execution_count": 11,
      "outputs": []
    },
    {
      "cell_type": "code",
      "metadata": {
        "id": "OtdSRS6IUefR"
      },
      "source": [
        "## Acá instanciamos o creamos el objeto \"dataset\" de la clase \"ShapesDataset\"\n",
        "## Le pasamos los directorios de los archivos, cambian \"CSVS\" y \"CNNS\" segun la carpeta en la que tienen los datos\n",
        "dataset = ShapesDataset(\n",
        "    csv_file=\"/content/drive/My Drive/IA/Archivos_Shapes/Muestra2K.csv\",\n",
        "    root_dir=\"/content/drive/My Drive/IA/Archivos_Shapes/muestra\",\n",
        "    transform=transforms.ToTensor())## Transformamos los datos a tensor"
      ],
      "execution_count": 12,
      "outputs": []
    },
    {
      "cell_type": "code",
      "metadata": {
        "id": "uOfYxQ76UgvX",
        "outputId": "fc3cd0e6-33d2-45f0-aaa2-a029ca260225",
        "colab": {
          "base_uri": "https://localhost:8080/",
          "height": 280
        }
      },
      "source": [
        "## Este codigo es solamente para que puedan ver las 4 formas, no es esencial\n",
        "fig = plt.figure()\n",
        "\n",
        "for i in range(len(dataset)):\n",
        "    imagen, label = dataset[(i+1)*510]\n",
        "    ax = plt.subplot(2, 2, i + 1)\n",
        "    plt.tight_layout()\n",
        "    ax.set_title('Sample {}, Label: {}'.format(i+1,classes[label] ))\n",
        "    ax.axis('off')\n",
        "    plt.imshow(imagen.squeeze_(0), cmap='gray')\n",
        "\n",
        "    if i == 3:\n",
        "        plt.show()\n",
        "        break"
      ],
      "execution_count": 14,
      "outputs": [
        {
          "output_type": "display_data",
          "data": {
            "image/png": "[encoded data removed]",
            "text/plain": [
              "<Figure size 432x288 with 4 Axes>"
            ]
          },
          "metadata": {
            "tags": [],
            "needs_background": "light"
          }
        }
      ]
    },
    {
      "cell_type": "code",
      "metadata": {
        "id": "iPw43qeaUit3"
      },
      "source": [
        " batch_size = 1\n",
        "## Definimos el tamaño del batch_size en 1 (La cantidad de imagenes)\n",
        "## Partimos el dataset en 80% entrenamiento, 20% prueba, juntos suman 2044\n",
        "train_set, test_set = torch.utils.data.random_split(dataset, [1636, 408])\n",
        "## Creamos los objetos que nos van a permitir cargar los datos en nuestra red (Objetos iterables de los que les hablaba al final de la sesion 1)\n",
        "train_loader = DataLoader(dataset=train_set, batch_size=batch_size, shuffle=True)\n",
        "test_loader = DataLoader(dataset=test_set, batch_size=batch_size, shuffle=True)"
      ],
      "execution_count": 15,
      "outputs": []
    },
    {
      "cell_type": "code",
      "metadata": {
        "id": "XVRtRMiKUowZ",
        "outputId": "b734c464-2f53-4654-fcdb-b1ef2e4be9f9",
        "colab": {
          "base_uri": "https://localhost:8080/",
          "height": 34
        }
      },
      "source": [
        "class Net (nn.Module):\n",
        "    def __init__(self):\n",
        "        super(Net, self).__init__()\n",
        "        ## LLenar con las capas de convolución   y pooling\n",
        "        \n",
        "    def forward (self, x):\n",
        "    \n",
        "        \n",
        "        ## Llenar con el orden\n",
        "        \n",
        "        return F.log_softmax(x, dim=1) ## Funcion de activación softmax\n",
        "\n",
        "    \n",
        "    \n",
        "\n",
        "net = Net()\n",
        "net = net.double()\n",
        "#Uncoment for training with cuda\n",
        "net.to(device)\n",
        "print(net)"
      ],
      "execution_count": 16,
      "outputs": [
        {
          "output_type": "stream",
          "text": [
            "Net()\n"
          ],
          "name": "stdout"
        }
      ]
    },
    {
      "cell_type": "markdown",
      "metadata": {
        "id": "gTYf7WLIU29L"
      },
      "source": [
        "- Capa de entrada **## Recuerden que la capa de entrada no se debe codificar.**\n",
        "- Capa convolucional1: in_Channels = 1, Out_Channels = 32, Kernel_size = 3 \n",
        "- Function de activación Relu  \n",
        "- Capa convolucional2: in_Channels = 32, Out_Channels = 32, Kernel_size = 3 \n",
        "- Capa de Max Pooling1: Kernel_size = 2\n",
        "- Function de activación Relu  \n",
        "- Capa convolucional3: in_Channels = 32, Out_Channels = 64, Kernel_size = 3 \n",
        "- Capa de Max Pooling2: Kernel_size = 2\n",
        "- Función de activación Relu  \n",
        "- Flatten\n",
        "- Capa lineal 1: n_Channels = ?, Out_Channels = 256\n",
        "- Función de activación Relu  \n",
        "- Capa lineal 2: n_Channels = 256, Out_Channels = 4\n",
        "- Función de activación: F.log_softmax(x, dim = 1)\n",
        "\n",
        "**Por fuera de la clase:**\n",
        "\n",
        "net = Net() \n",
        "\n",
        "net = net.double() ## Se convierten los parámetros de la red al mismo tipo de tensor que los datos de entrada\n",
        "\n",
        "net.to(device) ## Se lleva la red a GPU\n",
        "\n",
        "Tener en cuenta que el \"Net\" es el nombre que le dieron a la clase (red), \"net\" es solo un nombre que yo escogi para darle a un nuevo objeto de la clase \"Net\".\n",
        "\n",
        "\n",
        "## NOTA 1: Si cambian el nombre de la clase \"Net\" al momento de definirla deben cambiar Net() por ***(), donde los asteriscos son el nombre que le dieron a su clase, por ejemplo: \n",
        "\n",
        "net = Neuronas() \n",
        "\n",
        "## NOTA 2: Si cambian el nombre del objeto \"net\" deben cambiarlo en donde aparezca, por ejemplo: \n",
        "\n",
        "red = Net()\n",
        "\n",
        "red = red.double()\n",
        "\n",
        "red.to(device)\n",
        "\n",
        "## NOTA 3: En la capa lineal 1 hace falta el valor de entrada, debe ser calculado con la ecuación que dejo más abajo de la siguiente forma:\n",
        "\n",
        "La capa de entrada recibe 32x32 pixeles, la primera capa convolucional recibe esos pixeles y aplica un kernel de 3x3, no aplica padding y como no aparece stride por default es 1.\n",
        "\n",
        "Ejemplo:\n",
        "\n",
        "[(32-3+2*0)/1]+1 = 30\n",
        "\n",
        "30 es la cantidad de pixeles, recuerden que en las capas convolucionales no es necesario indicar los pixeles sino la cantidad de canales, deben seguir aplicando la ecuación para cada capa convolucional (incluidas las capas de pooling), al llegar a la ultima capa convolucional calculan la cantidad de pixeles y eso lo elevan al cuadrado (multiplican por si mismo el resultado, alto por ancho), luego multiplican por la cantidad de canales de salida que seria 64 y obtendrán el parámetro que falta.\n",
        "\n",
        "**Recuerden que las capas de pooling de 2x2 reducen a la mitad el tamaño de la imagen, y que si no es un numero entero queda del tamaño sin la parte decimal.**\n",
        "\n",
        "## Ecuación capas convolucionales: [(W−K+2P)/S]+1\n",
        "\n",
        "Donde: \n",
        "\n",
        "\"W\" es el ancho de la imagen, la ecuacion se hace para alto y ancho, pero como es el mismo solo la hacemos una vez, por eso al final debemos elevar al cuadrado o multiplicar por si mismo el valor de los pixeles, para obtener W*H, H es el alto.\n",
        "\n",
        "\"K\" es el kernel size de esa capa, como todos son 3 siempre es el mismo.\n",
        "\n",
        "\"P\" es el padding, como no hay es 2*0.\n",
        "\n",
        "\"S\" es el stride, como no se especifica por default es 1."
      ]
    },
    {
      "cell_type": "code",
      "metadata": {
        "id": "6LCSE6YjU4M_"
      },
      "source": [
        "import torch.optim as optim\n",
        "learning_rate = 0.001\n",
        "\n",
        "criterion = nn.CrossEntropyLoss()\n",
        "optimizer = optim.SGD(net.parameters(), lr=learning_rate, momentum=0.9)"
      ],
      "execution_count": null,
      "outputs": []
    },
    {
      "cell_type": "code",
      "metadata": {
        "id": "oGArZKr2W9hq"
      },
      "source": [
        "num_epochs = 2\n",
        "time0 = time()\n",
        "for epoch in range(num_epochs):  \n",
        "    print(\"Epoch: \", epoch)\n",
        "    running_loss = 0.0\n",
        "    for i, data in enumerate(???, 0):\n",
        "        \n",
        "        ## dividir entradas y etiquetas y llevarlas a GPU\n",
        "        \n",
        "        ## Gradientes a cero\n",
        "\n",
        "        ## forward + backward + optimize\n",
        "\n",
        "        ## Acumular perdida\n",
        "        \n",
        "\n",
        "    else:\n",
        "        print('[%d, %5d] loss: %.3f' %(epoch + 1, i + 1, running_loss /len(train_loader)))\n",
        "            \n",
        "\n",
        "print('Entrenamiento finalizado')\n",
        "print(\"\\nTraining Time (in minutes) =\",(time()-time0))"
      ],
      "execution_count": null,
      "outputs": []
    },
    {
      "cell_type": "code",
      "metadata": {
        "id": "SYjxuzu-YBAu"
      },
      "source": [
        "path = 'mired.pth'\n",
        "torch.save(net.state_dict(), path)"
      ],
      "execution_count": null,
      "outputs": []
    },
    {
      "cell_type": "code",
      "metadata": {
        "id": "tieLv1ogY_Kz"
      },
      "source": [
        "correct = 0\n",
        "total = 0\n",
        "class_correct = [0,0,0,0]\n",
        "class_total = [0,0,0,0]\n",
        "with torch.no_grad():\n",
        "    for data in test_loader:\n",
        "        images, labels = data\n",
        "        outputs = net(images)\n",
        "        _, predicted = torch.max(outputs.data, 1)\n",
        "        total += labels.size(0)\n",
        "        correct += (predicted == labels).sum().item()\n",
        "        if (predicted == labels):\n",
        "            class_correct[labels] += 1\n",
        "        else:\n",
        "            class_total[labels] += 1\n",
        "print('Accuracy of the network on the test images: %d %%' % (\n",
        "    100 * correct / total))"
      ],
      "execution_count": null,
      "outputs": []
    },
    {
      "cell_type": "code",
      "metadata": {
        "id": "1-sh-91yZDoj"
      },
      "source": [
        "print(class_correct)\n",
        "print(class_total)"
      ],
      "execution_count": null,
      "outputs": []
    },
    {
      "cell_type": "markdown",
      "metadata": {
        "id": "yfnNnIoYZieW"
      },
      "source": [
        "## Parte 2"
      ]
    },
    {
      "cell_type": "markdown",
      "metadata": {
        "id": "yRZ07djEZldD"
      },
      "source": [
        "## Desarrollo\n",
        "- Identificar el objeto iterable que hace falta en el loop de entrenamiento. (Esta identificado con \"???\")\n",
        "\n",
        "Nota 1: recuerden que el objeto sobre el que se itera una vez se ingresa al loop de las epocas es el objeto construido con los datos de entrenamiento y sus respectivas etiquetas.\n",
        "\n",
        "- Llevar los gradientes a cero para garantizar el correcto calculo de los gradientes en cada iteracion.\n",
        "\n",
        "- Aplicar el forward, backward, optimize\n",
        "\n",
        "Nota 2: Recuerden que para calcular el backward deben propagar la perdida, por tanto deben calcular la perdida antes.\n",
        "\n",
        "- Acumular la perdida de cada iteracion y dividirla sobre el tamaño del objeto iterable que falta para saber la perdida sobre ese batch.(La parte de la división ya esta en el print)"
      ]
    },
    {
      "cell_type": "markdown",
      "metadata": {
        "id": "V5fl9-Seej4b"
      },
      "source": [
        "## Fecha limite de entrega: Martes 6 de Octubre"
      ]
    }
  ]
}